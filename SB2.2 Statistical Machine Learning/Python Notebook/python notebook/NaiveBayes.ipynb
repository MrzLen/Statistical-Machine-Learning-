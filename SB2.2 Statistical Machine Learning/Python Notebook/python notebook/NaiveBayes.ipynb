{
 "cells": [
  {
   "cell_type": "markdown",
   "metadata": {},
   "source": [
    "# Python Notebook 4: Naive Bayes\n",
    "**Statistical Machine Learning Course**<br>\n",
    "Dept of Statistics, University of Oxford<br>\n",
    "Author: F. Caron"
   ]
  },
  {
   "cell_type": "code",
   "execution_count": 1,
   "metadata": {},
   "outputs": [],
   "source": [
    "import numpy as np\n",
    "import matplotlib.pyplot as plt\n",
    "import pandas as pd\n",
    "from scipy.stats import norm # normalpdf\n",
    "\n",
    "# Default plotting parameters\n",
    "font = {'size'   : 18}\n",
    "plt.rc('font', **font)\n",
    "plt.rcParams['figure.dpi'] = 100\n",
    "# For saving the figures\n",
    "svfigs = False # True if you want to save figures\n",
    "svdir = './figures/' # directory to save the figures\n",
    "if svfigs: # set a higher resolution if saving the figures\n",
    "    plt.rcParams['figure.dpi'] = 150\n",
    "else:\n",
    "    plt.rcParams['figure.dpi'] = 75 "
   ]
  },
  {
   "cell_type": "code",
   "execution_count": 2,
   "metadata": {},
   "outputs": [
    {
     "data": {
      "text/html": [
       "<div>\n",
       "<style scoped>\n",
       "    .dataframe tbody tr th:only-of-type {\n",
       "        vertical-align: middle;\n",
       "    }\n",
       "\n",
       "    .dataframe tbody tr th {\n",
       "        vertical-align: top;\n",
       "    }\n",
       "\n",
       "    .dataframe thead th {\n",
       "        text-align: right;\n",
       "    }\n",
       "</style>\n",
       "<table border=\"1\" class=\"dataframe\">\n",
       "  <thead>\n",
       "    <tr style=\"text-align: right;\">\n",
       "      <th></th>\n",
       "      <th>Survived</th>\n",
       "      <th>Pclass</th>\n",
       "      <th>Sex</th>\n",
       "      <th>Age</th>\n",
       "    </tr>\n",
       "  </thead>\n",
       "  <tbody>\n",
       "    <tr>\n",
       "      <th>0</th>\n",
       "      <td>0</td>\n",
       "      <td>3</td>\n",
       "      <td>male</td>\n",
       "      <td>22.0</td>\n",
       "    </tr>\n",
       "    <tr>\n",
       "      <th>1</th>\n",
       "      <td>1</td>\n",
       "      <td>1</td>\n",
       "      <td>female</td>\n",
       "      <td>38.0</td>\n",
       "    </tr>\n",
       "    <tr>\n",
       "      <th>2</th>\n",
       "      <td>1</td>\n",
       "      <td>3</td>\n",
       "      <td>female</td>\n",
       "      <td>26.0</td>\n",
       "    </tr>\n",
       "    <tr>\n",
       "      <th>3</th>\n",
       "      <td>1</td>\n",
       "      <td>1</td>\n",
       "      <td>female</td>\n",
       "      <td>35.0</td>\n",
       "    </tr>\n",
       "    <tr>\n",
       "      <th>4</th>\n",
       "      <td>0</td>\n",
       "      <td>3</td>\n",
       "      <td>male</td>\n",
       "      <td>35.0</td>\n",
       "    </tr>\n",
       "    <tr>\n",
       "      <th>...</th>\n",
       "      <td>...</td>\n",
       "      <td>...</td>\n",
       "      <td>...</td>\n",
       "      <td>...</td>\n",
       "    </tr>\n",
       "    <tr>\n",
       "      <th>882</th>\n",
       "      <td>0</td>\n",
       "      <td>2</td>\n",
       "      <td>male</td>\n",
       "      <td>27.0</td>\n",
       "    </tr>\n",
       "    <tr>\n",
       "      <th>883</th>\n",
       "      <td>1</td>\n",
       "      <td>1</td>\n",
       "      <td>female</td>\n",
       "      <td>19.0</td>\n",
       "    </tr>\n",
       "    <tr>\n",
       "      <th>884</th>\n",
       "      <td>0</td>\n",
       "      <td>3</td>\n",
       "      <td>female</td>\n",
       "      <td>7.0</td>\n",
       "    </tr>\n",
       "    <tr>\n",
       "      <th>885</th>\n",
       "      <td>1</td>\n",
       "      <td>1</td>\n",
       "      <td>male</td>\n",
       "      <td>26.0</td>\n",
       "    </tr>\n",
       "    <tr>\n",
       "      <th>886</th>\n",
       "      <td>0</td>\n",
       "      <td>3</td>\n",
       "      <td>male</td>\n",
       "      <td>32.0</td>\n",
       "    </tr>\n",
       "  </tbody>\n",
       "</table>\n",
       "<p>887 rows × 4 columns</p>\n",
       "</div>"
      ],
      "text/plain": [
       "     Survived  Pclass     Sex   Age\n",
       "0           0       3    male  22.0\n",
       "1           1       1  female  38.0\n",
       "2           1       3  female  26.0\n",
       "3           1       1  female  35.0\n",
       "4           0       3    male  35.0\n",
       "..        ...     ...     ...   ...\n",
       "882         0       2    male  27.0\n",
       "883         1       1  female  19.0\n",
       "884         0       3  female   7.0\n",
       "885         1       1    male  26.0\n",
       "886         0       3    male  32.0\n",
       "\n",
       "[887 rows x 4 columns]"
      ]
     },
     "execution_count": 2,
     "metadata": {},
     "output_type": "execute_result"
    }
   ],
   "source": [
    "# Load Titanic data\n",
    "url = 'https://web.stanford.edu/class/archive/cs/cs109/cs109.1166/stuff/titanic.csv'\n",
    "titanic = pd.read_csv(url)\n",
    "titanic = titanic[['Survived','Pclass', 'Sex', 'Age']]\n",
    "titanic"
   ]
  },
  {
   "cell_type": "code",
   "execution_count": 3,
   "metadata": {},
   "outputs": [
    {
     "data": {
      "image/png": "[encoded data removed]",
      "text/plain": [
       "<Figure size 450x300 with 1 Axes>"
      ]
     },
     "metadata": {},
     "output_type": "display_data"
    }
   ],
   "source": [
    "# Proportion of Survivors\n",
    "titanic.Survived.value_counts().plot(kind = 'pie', legend=False);"
   ]
  },
  {
   "cell_type": "code",
   "execution_count": 4,
   "metadata": {},
   "outputs": [
    {
     "data": {
      "text/plain": [
       "<Figure size 450x300 with 0 Axes>"
      ]
     },
     "metadata": {},
     "output_type": "display_data"
    },
    {
     "data": {
      "image/png": "[encoded data removed]",
      "text/plain": [
       "<Figure size 450x300 with 2 Axes>"
      ]
     },
     "metadata": {
      "needs_background": "light"
     },
     "output_type": "display_data"
    },
    {
     "data": {
      "text/plain": [
       "<Figure size 450x300 with 0 Axes>"
      ]
     },
     "metadata": {},
     "output_type": "display_data"
    },
    {
     "data": {
      "image/png": "[encoded data removed]",
      "text/plain": [
       "<Figure size 450x300 with 2 Axes>"
      ]
     },
     "metadata": {
      "needs_background": "light"
     },
     "output_type": "display_data"
    },
    {
     "data": {
      "text/plain": [
       "<Figure size 450x300 with 0 Axes>"
      ]
     },
     "metadata": {},
     "output_type": "display_data"
    },
    {
     "data": {
      "image/png": "[encoded data removed]",
      "text/plain": [
       "<Figure size 450x300 with 2 Axes>"
      ]
     },
     "metadata": {
      "needs_background": "light"
     },
     "output_type": "display_data"
    }
   ],
   "source": [
    "# Plot histogram of class, age and sex for both those who survived and those who didn't\n",
    "plt.figure()\n",
    "titanic['Pclass'].hist(by=titanic['Survived'], sharex=True, sharey=True, legend='Class', xrot=0)\n",
    "if svfigs:\n",
    "    plt.savefig(svdir + 'titanic1.png', bbox_inches = 'tight')\n",
    "    \n",
    "plt.figure()\n",
    "titanic['Age'].hist(by=titanic['Survived'], sharex=True, sharey=True, legend='True', xrot=0)\n",
    "if svfigs:\n",
    "    plt.savefig(svdir + 'titanic2.png', bbox_inches = 'tight')\n",
    "\n",
    "\n",
    "plt.figure()\n",
    "titanic['Sex'].hist(by=titanic['Survived'], sharey=True, legend='True', xrot=0, xlabelsize=16)\n",
    "\n",
    "if svfigs:\n",
    "    plt.savefig(svdir + 'titanic3.png', bbox_inches = 'tight');"
   ]
  },
  {
   "cell_type": "code",
   "execution_count": 5,
   "metadata": {},
   "outputs": [
    {
     "name": "stdout",
     "output_type": "stream",
     "text": [
      "Estimated class probabilities:\n",
      " 0    0.614431\n",
      "1    0.385569\n",
      "Name: Survived, dtype: float64\n"
     ]
    }
   ],
   "source": [
    "# Calculate estimate of probability of surviving\n",
    "counts_survived = titanic['Survived'].value_counts()\n",
    "n = counts_survived.sum()\n",
    "pi = counts_survived / n\n",
    "print('Estimated class probabilities:\\n', pi)"
   ]
  },
  {
   "cell_type": "code",
   "execution_count": 6,
   "metadata": {},
   "outputs": [
    {
     "name": "stdout",
     "output_type": "stream",
     "text": [
      "Mean:\n",
      " Survived\n",
      "0    30.138532\n",
      "1    28.408392\n",
      "Name: Age, dtype: float64\n",
      "\n",
      "Std:\n",
      " Survived\n",
      "0    13.898317\n",
      "1    14.427863\n",
      "Name: Age, dtype: float64\n"
     ]
    }
   ],
   "source": [
    "# For the age variable, we assume a Gaussian model: estimate the mean and variance \n",
    "mu_age = titanic.groupby(['Survived']).Age.mean()\n",
    "std_age = titanic.groupby(['Survived']).Age.std()\n",
    "print('Mean:\\n', mu_age)\n",
    "print('\\nStd:\\n', std_age)"
   ]
  },
  {
   "cell_type": "code",
   "execution_count": 7,
   "metadata": {},
   "outputs": [
    {
     "name": "stdout",
     "output_type": "stream",
     "text": [
      "Survived=0:\n",
      " Sex\n",
      "male      0.851376\n",
      "female    0.148624\n",
      "Name: Sex, dtype: float64\n",
      "\n",
      "Survived=1:\n",
      " Sex\n",
      "female    0.681287\n",
      "male      0.318713\n",
      "Name: Sex, dtype: float64\n"
     ]
    }
   ],
   "source": [
    "# For the Sex, assume a Bernoulli model, and estimate the proportions \n",
    "counts_sex = titanic.groupby(['Survived']).Sex.value_counts()\n",
    "prop_sex_0 = counts_sex[0]/counts_survived[0]\n",
    "prop_sex_1 = counts_sex[1]/counts_survived[1]\n",
    "print('Survived=0:\\n', prop_sex_0)\n",
    "print('\\nSurvived=1:\\n', prop_sex_1)"
   ]
  },
  {
   "cell_type": "code",
   "execution_count": 8,
   "metadata": {},
   "outputs": [
    {
     "name": "stdout",
     "output_type": "stream",
     "text": [
      "Survived=0:\n",
      " Pclass\n",
      "3    0.675229\n",
      "2    0.177982\n",
      "1    0.146789\n",
      "Name: Pclass, dtype: float64\n",
      "\n",
      "Survived=1:\n",
      " Pclass\n",
      "1    0.397661\n",
      "3    0.347953\n",
      "2    0.254386\n",
      "Name: Pclass, dtype: float64\n"
     ]
    }
   ],
   "source": [
    "# For the PClass, assume a Bernoulli model, and estimate the proportions \n",
    "counts_pclass = titanic.groupby(['Survived']).Pclass.value_counts()\n",
    "prop_pclass_0 = counts_pclass[0]/counts_survived[0]\n",
    "prop_pclass_1 = counts_pclass[1]/counts_survived[1]\n",
    "print('Survived=0:\\n',prop_pclass_0)\n",
    "print('\\nSurvived=1:\\n',prop_pclass_1)"
   ]
  },
  {
   "cell_type": "code",
   "execution_count": 9,
   "metadata": {},
   "outputs": [],
   "source": [
    "# Define the learned classifier\n",
    "def h_naive(pclass, sex, age):\n",
    "    logp0 = np.log(pi[0]) +  np.log(prop_sex_0[sex]) + np.log(prop_pclass_0[pclass]) + norm.logpdf(age, mu_age[0], std_age[0])\n",
    "    logp1 = np.log(pi[1]) + np.log(prop_sex_1[sex]) + np.log(prop_pclass_1[pclass]) + norm.logpdf(age, mu_age[1], std_age[1])\n",
    "    if logp1>logp0:\n",
    "        y_hat = 1 # predict survival\n",
    "    else:\n",
    "        y_hat = 0\n",
    "    return (y_hat, np.exp(logp1)/(np.exp(logp0)+np.exp(logp1))) # return the binary class and Pr(Y=1|X=x)"
   ]
  },
  {
   "cell_type": "code",
   "execution_count": 10,
   "metadata": {},
   "outputs": [
    {
     "name": "stdout",
     "output_type": "stream",
     "text": [
      "Female in 3rd class, 30y: Survive= 1  | Prob. Survive= 0.5866603485676527\n",
      "Female in 1st class, 30y: Survive= 1  | Prob. Survive= 0.8818184370776185\n"
     ]
    }
   ],
   "source": [
    "# Compute prediction and probabilities for some values\n",
    "(y_hat, proba_hat) = h_naive(3, 'female', 30) # Female in 3rd class, aged 30\n",
    "print('Female in 3rd class, 30y: Survive=', y_hat, ' | Prob. Survive=' , proba_hat)\n",
    "(y_hat, proba_hat) = h_naive(1, 'female', 30) # Female in 1st class, aged 30\n",
    "print('Female in 1st class, 30y: Survive=', y_hat, ' | Prob. Survive=' , proba_hat)"
   ]
  },
  {
   "cell_type": "code",
   "execution_count": 11,
   "metadata": {},
   "outputs": [
    {
     "name": "stdout",
     "output_type": "stream",
     "text": [
      "Male in 3rd class, 20y: Survive= 0  | Prob. Survive= 0.11378328709019185\n",
      "Male in 1st class, 20y: Survive= 0  | Prob. Survive= 0.4029765134132923\n"
     ]
    }
   ],
   "source": [
    "# Compute prediction and probabilities for some values\n",
    "(y_hat, proba_hat) = h_naive(3, 'male', 20)\n",
    "print('Male in 3rd class, 20y: Survive=', y_hat, ' | Prob. Survive=' , proba_hat)\n",
    "(y_hat, proba_hat) = h_naive(1, 'male', 20)\n",
    "print('Male in 1st class, 20y: Survive=', y_hat, ' | Prob. Survive=' , proba_hat)"
   ]
  }
 ],
 "metadata": {
  "kernelspec": {
   "display_name": "Python 3",
   "language": "python",
   "name": "python3"
  },
  "language_info": {
   "codemirror_mode": {
    "name": "ipython",
    "version": 3
   },
   "file_extension": ".py",
   "mimetype": "text/x-python",
   "name": "python",
   "nbconvert_exporter": "python",
   "pygments_lexer": "ipython3",
   "version": "3.7.9"
  }
 },
 "nbformat": 4,
 "nbformat_minor": 4
}
